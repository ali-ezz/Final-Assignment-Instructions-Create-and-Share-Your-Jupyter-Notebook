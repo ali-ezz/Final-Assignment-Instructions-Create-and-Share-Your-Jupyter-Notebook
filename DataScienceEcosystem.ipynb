{
 "cells": [
  {
   "cell_type": "markdown",
   "id": "0c369fd9-156f-41df-8a1c-c31a328409d0",
   "metadata": {},
   "source": [
    "# Data Science Tools and Ecosystem"
   ]
  },
  {
   "cell_type": "markdown",
   "id": "2dd9aa79-28f9-480a-920a-e0f0ba182ed6",
   "metadata": {},
   "source": [
    "## intro\n",
    "so we know a lot about the bulid but little about the tools how to bulid so in these file we will \n",
    "take a look at the tools in data science"
   ]
  },
  {
   "cell_type": "markdown",
   "id": "62e5b7f3-0bf4-4f38-a06f-1a9244f97d94",
   "metadata": {},
   "source": [
    "## languages\n",
    "so first we have to see the first think a programer do codeing so here is some languages in these fild\n",
    "1. python - these the most common in these filed\n",
    "2. R - for some math problems\n",
    "3. sql - these the most imprtant to a srutcher database"
   ]
  },
  {
   "cell_type": "markdown",
   "id": "daff5f44-7327-4f87-b65b-66f69dd351d6",
   "metadata": {},
   "source": [
    "## libraries\n",
    "so we have a lot of libraries to use in these languages like\n",
    "1. pandas - used for data manipulation\n",
    "2. NumPy - mathematical packages like R but in python\n",
    "3. SciPy - for optimization and integration"
   ]
  },
  {
   "cell_type": "markdown",
   "id": "7ad88c72-4b11-40ea-a787-496b1711002a",
   "metadata": {},
   "source": [
    "| Data Science Tools |\n",
    "|--------|\n",
    "| Apache Spark |\n",
    "| IBM SPSS |\n",
    "| Julia |\n"
   ]
  },
  {
   "cell_type": "markdown",
   "id": "b0575649-811b-4b03-afa6-c52aedbb8df0",
   "metadata": {},
   "source": [
    "### here is some evaluating arithmetic expressions in Python"
   ]
  },
  {
   "cell_type": "code",
   "execution_count": 1,
   "id": "0a96e8cf-4c4e-4724-af8c-850811f86696",
   "metadata": {},
   "outputs": [
    {
     "data": {
      "text/plain": [
       "17"
      ]
     },
     "execution_count": 1,
     "metadata": {},
     "output_type": "execute_result"
    }
   ],
   "source": [
    "# This a simple arithmetic expression to mutiply then add integers\n",
    "(3*4)+5"
   ]
  },
  {
   "cell_type": "code",
   "execution_count": 2,
   "id": "6ea3f9a0-6782-48ed-bfbe-6501148fab16",
   "metadata": {},
   "outputs": [
    {
     "data": {
      "text/plain": [
       "3.3333333333333335"
      ]
     },
     "execution_count": 2,
     "metadata": {},
     "output_type": "execute_result"
    }
   ],
   "source": [
    "#  This will convert 200 minutes to hours by diving by 60\n",
    "200/60"
   ]
  },
  {
   "cell_type": "markdown",
   "id": "bf6f08d9-9789-4320-b69a-5c9c8621f38b",
   "metadata": {},
   "source": [
    "**Objectives of these course:**\n",
    "- List popular languages for Data Science\n",
    "- list some open sourse tools used in data science\n",
    "- using some tools like jupter-noteboook and R"
   ]
  },
  {
   "cell_type": "markdown",
   "id": "1b9ebd8b-2e11-4c19-acf4-f85a407acf37",
   "metadata": {},
   "source": [
    "## Author \n",
    "---------\n",
    "ali ezz"
   ]
  },
  {
   "cell_type": "code",
   "execution_count": null,
   "id": "86b83ee0-753f-47e8-90a4-563aaa05b074",
   "metadata": {},
   "outputs": [],
   "source": []
  }
 ],
 "metadata": {
  "kernelspec": {
   "display_name": "Python 3 (ipykernel)",
   "language": "python",
   "name": "python3"
  },
  "language_info": {
   "codemirror_mode": {
    "name": "ipython",
    "version": 3
   },
   "file_extension": ".py",
   "mimetype": "text/x-python",
   "name": "python",
   "nbconvert_exporter": "python",
   "pygments_lexer": "ipython3",
   "version": "3.12.8"
  }
 },
 "nbformat": 4,
 "nbformat_minor": 5
}
